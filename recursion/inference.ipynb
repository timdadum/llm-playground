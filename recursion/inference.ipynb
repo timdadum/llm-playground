{
 "cells": [
  {
   "cell_type": "markdown",
   "metadata": {},
   "source": [
    "\n",
    "# LLM Playground\n",
    "\n",
    "When models are trained, this notebook can be used to empirically test, try and break the model. First, load the model using:"
   ]
  },
  {
   "cell_type": "code",
   "execution_count": 9,
   "metadata": {},
   "outputs": [
    {
     "name": "stdout",
     "output_type": "stream",
     "text": [
      "[CKPT] Loaded weights from: checkpoints/basic-llm_best.pt\n"
     ]
    },
    {
     "name": "stderr",
     "output_type": "stream",
     "text": [
      "c:\\Users\\timda\\Documents\\Repositories\\llm-playground\\recursion\\train.py:191: FutureWarning: You are using `torch.load` with `weights_only=False` (the current default value), which uses the default pickle module implicitly. It is possible to construct malicious pickle data which will execute arbitrary code during unpickling (See https://github.com/pytorch/pytorch/blob/main/SECURITY.md#untrusted-models for more details). In a future release, the default value for `weights_only` will be flipped to `True`. This limits the functions that could be executed during unpickling. Arbitrary objects will no longer be allowed to be loaded via this mode unless they are explicitly allowlisted by the user via `torch.serialization.add_safe_globals`. We recommend you start setting `weights_only=True` for any use case where you don't have full control of the loaded file. Please open an issue on GitHub for any issues related to this experimental feature.\n",
      "  ckpt = torch.load(path, map_location=map_location)\n"
     ]
    }
   ],
   "source": [
    "from model import ModelConfig, BasicGPT, TRMModel\n",
    "from train import _load_checkpoint_into\n",
    "import torch\n",
    "\n",
    "CHECKPOINT_NAME = \"basic-llm_best\" # Specify the model name here, e.g., \"full-h512-10e\" or \"basic-model\", any name goes.\n",
    "\n",
    "config = ModelConfig()\n",
    "device = \"cuda\" if torch.cuda.is_available() else \"cpu\"\n",
    "pretrained_model = _load_checkpoint_into(\n",
    "    TRMModel(config),\n",
    "    f\"checkpoints/{CHECKPOINT_NAME}.pt\",\n",
    "    map_location=device\n",
    ")"
   ]
  },
  {
   "cell_type": "markdown",
   "metadata": {},
   "source": [
    "## Inference\n",
    "#### TODO: Add benchmarking to systematically assess quality of, aside from CE loss and perplexity"
   ]
  },
  {
   "cell_type": "code",
   "execution_count": null,
   "metadata": {},
   "outputs": [],
   "source": [
    "sequence = \"England is a country that is part of the United Kingdom. It shares land borders with Scotland to the north, \"\n",
    "## tokenization\n",
    "tokenized_sequence = ...\n",
    "x = torch.tensor(tokenized_sequence, dtype=torch.long, device=device)\n",
    "out = pretrained_model.generate(\n",
    "    x,\n",
    "    max_new_tokens=128,\n",
    "    do_sample=True,\n",
    "    temperature=0.8\n",
    ")"
   ]
  }
 ],
 "metadata": {
  "kernelspec": {
   "display_name": "base",
   "language": "python",
   "name": "python3"
  },
  "language_info": {
   "codemirror_mode": {
    "name": "ipython",
    "version": 3
   },
   "file_extension": ".py",
   "mimetype": "text/x-python",
   "name": "python",
   "nbconvert_exporter": "python",
   "pygments_lexer": "ipython3",
   "version": "3.9.13"
  }
 },
 "nbformat": 4,
 "nbformat_minor": 2
}
